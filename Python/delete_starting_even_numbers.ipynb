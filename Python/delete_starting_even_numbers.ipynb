{
 "cells": [
  {
   "attachments": {},
   "cell_type": "markdown",
   "metadata": {},
   "source": [
    "# Delete Starting Even Numbers"
   ]
  },
  {
   "attachments": {},
   "cell_type": "markdown",
   "metadata": {},
   "source": [
    "## My Solution (which is incorrect!!!)"
   ]
  },
  {
   "cell_type": "code",
   "execution_count": 15,
   "metadata": {},
   "outputs": [
    {
     "name": "stdout",
     "output_type": "stream",
     "text": [
      "[4, 8, 10, 11, 12, 15]\n",
      "[4, 8, 10]\n"
     ]
    }
   ],
   "source": [
    "def delete_starting_evens(my_list):\n",
    "  while (len(my_list) == 0) or (my_list[0] % 2 != 0): # Wrong\n",
    "    my_list = my_list[1:]\n",
    "  return my_list\n",
    "\n",
    "print(delete_starting_evens([4, 8, 10, 11, 12, 15]))\n",
    "print(delete_starting_evens([4, 8, 10]))"
   ]
  },
  {
   "attachments": {},
   "cell_type": "markdown",
   "metadata": {},
   "source": [
    "I had a complete misunderstanding of how the 'while' statement operates, completely opposite to its actual functioning."
   ]
  },
  {
   "attachments": {},
   "cell_type": "markdown",
   "metadata": {},
   "source": [
    "The solution should be like:"
   ]
  },
  {
   "cell_type": "code",
   "execution_count": 18,
   "metadata": {},
   "outputs": [
    {
     "name": "stdout",
     "output_type": "stream",
     "text": [
      "[11, 12, 15]\n",
      "[]\n"
     ]
    }
   ],
   "source": [
    "def delete_starting_evens(my_list):\n",
    "  # Use a while loop to continue iterating as long as the provided conditions are true.\n",
    "  while (len(my_list) > 0) and (my_list[0] % 2 == 0):\n",
    "    my_list = my_list[1:]\n",
    "  return my_list\n",
    "\n",
    "print(delete_starting_evens([4, 8, 10, 11, 12, 15]))\n",
    "print(delete_starting_evens([4, 8, 10]))"
   ]
  },
  {
   "attachments": {},
   "cell_type": "markdown",
   "metadata": {},
   "source": [
    "## Commentary\n",
    "\n",
    "After defining our method, we use a `while` loop to **keep iterating as long as some provided conditions are true**. \n",
    "\n",
    "We provide two conditions for the `while` loop to continue. We will keep iterating as long as there is at least one number left in the list `len(my_list) > 0` and if the first element in the list is even `my_list[0] % 2 == 0`. If both of these conditions are true, then we replace the list with every element except for the first one using `my_list[1:]`. Once the list is empty or we hit an odd number, the `while` loop terminates and we return the modified list.\n",
    "\n"
   ]
  }
 ],
 "metadata": {
  "kernelspec": {
   "display_name": "Python 3",
   "language": "python",
   "name": "python3"
  },
  "language_info": {
   "codemirror_mode": {
    "name": "ipython",
    "version": 3
   },
   "file_extension": ".py",
   "mimetype": "text/x-python",
   "name": "python",
   "nbconvert_exporter": "python",
   "pygments_lexer": "ipython3",
   "version": "3.11.3"
  },
  "orig_nbformat": 4
 },
 "nbformat": 4,
 "nbformat_minor": 2
}
