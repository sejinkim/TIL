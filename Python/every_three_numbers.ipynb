{
 "cells": [
  {
   "attachments": {},
   "cell_type": "markdown",
   "metadata": {},
   "source": [
    "# Every Three Numbers\n",
    "\n",
    "1. Define the function to accept one parameter for our starting number\n",
    "2. Calculate the numbers between the starting number and 100 while incrementing by 3\n",
    "3. Store the numbers in a list\n",
    "4. Return the list"
   ]
  },
  {
   "attachments": {},
   "cell_type": "markdown",
   "metadata": {},
   "source": [
    "## My Solution"
   ]
  },
  {
   "cell_type": "code",
   "execution_count": 1,
   "metadata": {},
   "outputs": [
    {
     "name": "stdout",
     "output_type": "stream",
     "text": [
      "[91, 94, 97, 100]\n",
      "[]\n"
     ]
    }
   ],
   "source": [
    "def every_three_nums(start):\n",
    "  if start <= 100:\n",
    "    lst = [i for i in range(start, 101, 3)]\n",
    "    return lst\n",
    "  else:\n",
    "    return []\n",
    "\n",
    "print(every_three_nums(91))\n",
    "print(every_three_nums(102))"
   ]
  },
  {
   "attachments": {},
   "cell_type": "markdown",
   "metadata": {},
   "source": [
    "## Better Solution"
   ]
  },
  {
   "cell_type": "code",
   "execution_count": 2,
   "metadata": {},
   "outputs": [],
   "source": [
    "def every_three_nums(start):\n",
    "    return list(range(start, 101, 3))"
   ]
  },
  {
   "attachments": {},
   "cell_type": "markdown",
   "metadata": {},
   "source": [
    "You don't really need the if-else condition. The range() function will return an empty list if the start value is greater than the stop value. \n",
    "\n",
    "This is better in the sense that it's more concise, and it doesn't need an explicit condition to return an empty list. It utilizes the natural behavior of the range() function."
   ]
  }
 ],
 "metadata": {
  "kernelspec": {
   "display_name": "Python 3",
   "language": "python",
   "name": "python3"
  },
  "language_info": {
   "codemirror_mode": {
    "name": "ipython",
    "version": 3
   },
   "file_extension": ".py",
   "mimetype": "text/x-python",
   "name": "python",
   "nbconvert_exporter": "python",
   "pygments_lexer": "ipython3",
   "version": "3.11.3"
  },
  "orig_nbformat": 4
 },
 "nbformat": 4,
 "nbformat_minor": 2
}
