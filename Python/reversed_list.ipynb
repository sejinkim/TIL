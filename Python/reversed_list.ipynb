{
 "cells": [
  {
   "attachments": {},
   "cell_type": "markdown",
   "metadata": {},
   "source": [
    "# Reversed List"
   ]
  },
  {
   "attachments": {},
   "cell_type": "markdown",
   "metadata": {},
   "source": [
    "## My Solution"
   ]
  },
  {
   "cell_type": "code",
   "execution_count": 1,
   "metadata": {},
   "outputs": [
    {
     "name": "stdout",
     "output_type": "stream",
     "text": [
      "True\n",
      "False\n"
     ]
    }
   ],
   "source": [
    "def reversed_list(lst1, lst2):\n",
    "    for i in range(len(lst1)):\n",
    "        if lst1[i] != lst2[(len(lst2) - 1) - i]:\n",
    "            return False\n",
    "            break\n",
    "    return True\n",
    "\n",
    "print(reversed_list([1, 2, 3], [3, 2, 1]))\n",
    "print(reversed_list([1, 5, 3], [3, 2, 1]))"
   ]
  },
  {
   "attachments": {},
   "cell_type": "markdown",
   "metadata": {},
   "source": [
    "## Commentary"
   ]
  },
  {
   "attachments": {},
   "cell_type": "markdown",
   "metadata": {},
   "source": [
    "### **How does the `return` statement work?** - Is `break` necessary in the if statement?"
   ]
  },
  {
   "cell_type": "code",
   "execution_count": 2,
   "metadata": {},
   "outputs": [
    {
     "name": "stdout",
     "output_type": "stream",
     "text": [
      "True\n",
      "False\n"
     ]
    }
   ],
   "source": [
    "def reversed_list(lst1, lst2):\n",
    "    for i in range(len(lst1)):\n",
    "        if lst1[i] != lst2[(len(lst2) - 1) - i]:\n",
    "            return False\n",
    "            # break\n",
    "    return True\n",
    "\n",
    "print(reversed_list([1, 2, 3], [3, 2, 1]))\n",
    "print(reversed_list([1, 5, 3], [3, 2, 1]))"
   ]
  },
  {
   "attachments": {},
   "cell_type": "markdown",
   "metadata": {},
   "source": [
    "The `break` statement in this code doesn't change the functionality of the function. Therefore, the results will be the same with or without `break` after `return False` in this context. \n",
    "\n",
    "**The `return` statement in Python immediately ends the function execution and sends the `return` value back to the caller.** So once the `return` statement is executed, the function will terminate, and any code that follows the `return` statement within the function will not get executed.\n",
    "\n",
    "**This means the `break` statement after `return False` in the code never gets executed.** As soon as `return False` is executed, the function terminates and exits.\n",
    "\n",
    "In the context of the `reversed_list` function, if `lst1[index] != lst2[len(lst2) - 1 - index]`, the function immediately returns `False` and ends, which is the same behavior as breaking the loop.\n",
    "\n",
    "So, it is more Pythonic and concise to omit the break statement as in the solution provided by the site.\n"
   ]
  },
  {
   "attachments": {},
   "cell_type": "markdown",
   "metadata": {},
   "source": [
    "### `else` with `for` statement"
   ]
  },
  {
   "cell_type": "code",
   "execution_count": 3,
   "metadata": {},
   "outputs": [],
   "source": [
    "def reversed_list(lst1, lst2):\n",
    "    for i in range(len(lst1)):\n",
    "        if lst1[i] != lst2[(len(lst2) - 1) - i]:\n",
    "            return False\n",
    "    else:\n",
    "        return True\n"
   ]
  },
  {
   "attachments": {},
   "cell_type": "markdown",
   "metadata": {},
   "source": [
    "The `else` clause above gets executed when the for loop has finished iterating over the entire list, meaning no `return False` statement was encountered (i.e., no elements were found that didn't match the reverse condition)."
   ]
  },
  {
   "cell_type": "code",
   "execution_count": 4,
   "metadata": {},
   "outputs": [],
   "source": [
    "def reversed_list(lst1, lst2):\n",
    "    for i in range(len(lst1)):\n",
    "        if lst1[i] != lst2[(len(lst2) - 1) - i]:\n",
    "            return False\n",
    "    return True\n"
   ]
  },
  {
   "attachments": {},
   "cell_type": "markdown",
   "metadata": {},
   "source": [
    "In the site's solution, the `return True` statement is simply the last line of the function, and it gets executed only if the function hasn't returned `False` and ended early."
   ]
  },
  {
   "attachments": {},
   "cell_type": "markdown",
   "metadata": {},
   "source": [
    "Both versions are equally Pythonic and valid ways to solve the problem. **The use of `for-else` construct might be less common and slightly less intuitive for some programmers**, especially those new to Python or coming from other programming languages where this construct doesn't exist. Therefore, the site's version might be considered slightly more straightforward and thus \"cleaner\" to some. However, this largely comes down to personal preference and style.\n",
    "\n",
    "Both versions will produce the same output for all inputs, and there's no significant performance difference between them."
   ]
  },
  {
   "attachments": {},
   "cell_type": "markdown",
   "metadata": {},
   "source": [
    "### **Indentation** - Positioning of `return`"
   ]
  },
  {
   "attachments": {},
   "cell_type": "markdown",
   "metadata": {},
   "source": [
    "In Python, indentation is used to define the level of a block of code. This is different from many other programming languages, which use braces `{}` or other symbols to define code blocks. In Python, an indented block of code starts with a colon `:` and all the lines of code indented by the same amount under that belong to the same block.\n",
    "\n",
    "In the case of your function, `return True` is part of the `else` block of the `for` loop. The `else` clause in a `for` loop is executed when the loop has exhausted iterating the list. Here's your function again, with comments explaining the structure:"
   ]
  },
  {
   "cell_type": "code",
   "execution_count": 5,
   "metadata": {},
   "outputs": [],
   "source": [
    "def reversed_list(lst1, lst2):\n",
    "    for i in range(len(lst1)): # start of the for loop\n",
    "        if lst1[i] != lst2[(len(lst2) - 1) - i]: # start of the if statement\n",
    "            return False # end of the if statement\n",
    "    else: # start of the else clause associated with the for loop\n",
    "        return True # end of the else clause and the for loop\n"
   ]
  },
  {
   "attachments": {},
   "cell_type": "markdown",
   "metadata": {},
   "source": [
    "If you wanted to make `return True` not part of the `else` clause but still part of the function, you would un-indent it one level, like this:"
   ]
  },
  {
   "cell_type": "code",
   "execution_count": 6,
   "metadata": {},
   "outputs": [],
   "source": [
    "def reversed_list(lst1, lst2):\n",
    "    for i in range(len(lst1)): # start of the for loop\n",
    "        if lst1[i] != lst2[(len(lst2) - 1) - i]: # start of the if statement\n",
    "            return False # end of the if statement\n",
    "    # the for loop ends here\n",
    "    return True # this line is executed after the for loop finishes, if the function hasn't returned False and ended already\n"
   ]
  },
  {
   "attachments": {},
   "cell_type": "markdown",
   "metadata": {},
   "source": [
    "In this version, `return True` is executed after the `for` loop finishes, if the function hasn't returned `False` and ended already. This is functionally equivalent to your original version with the `else` clause."
   ]
  },
  {
   "attachments": {},
   "cell_type": "markdown",
   "metadata": {},
   "source": [
    "The following is the code I made a mistake:"
   ]
  },
  {
   "cell_type": "code",
   "execution_count": 7,
   "metadata": {},
   "outputs": [
    {
     "name": "stdout",
     "output_type": "stream",
     "text": [
      "True\n",
      "True\n"
     ]
    }
   ],
   "source": [
    "def reversed_list(lst1, lst2):\n",
    "    for i in range(len(lst1)):\n",
    "        if lst1[i] != lst2[(len(lst2) - 1) - i]:\n",
    "            return False\n",
    "        return True\n",
    "\n",
    "print(reversed_list([1, 2, 3], [3, 2, 1]))\n",
    "print(reversed_list([1, 5, 3], [3, 2, 1])) # Must be `False`!"
   ]
  },
  {
   "attachments": {},
   "cell_type": "markdown",
   "metadata": {},
   "source": [
    "In the code above, the `return True` statement is indented to be within the `for` loop, and it isn't within the `if` statement. This means that it gets executed on every iteration of the loop, not just when the `if` condition fails.\n",
    "\n",
    "Here's the flow of the function:\n",
    "\n",
    "1. On the first iteration of the loop, it checks if the first item of `lst1` is not equal to the last item of `lst2`.\n",
    "2. If they are not equal, it immediately returns `False` and the function ends.\n",
    "3. If they are equal, it doesn't execute the `if` block, and then it immediately executes `return True` (since that's the next line of code within the loop), ending the function.\n",
    "\n",
    "This means that **the function only ever compares the first and last items of the lists. As soon as it determines that they are equal, it returns `True` without checking the rest of the lists.**\n",
    "\n",
    "When you call `print(reversed_list([1, 5, 3], [3, 2, 1]))`, it checks if `1` (the first item of the first list) is not equal to `1` (the last item of the second list). Since they are equal, it returns True and the function ends, without checking any other items in the lists."
   ]
  },
  {
   "attachments": {},
   "cell_type": "markdown",
   "metadata": {},
   "source": [
    "To correctly implement the function, you should un-indent the return True line so it's not within the for loop, like this:"
   ]
  },
  {
   "cell_type": "code",
   "execution_count": 8,
   "metadata": {},
   "outputs": [],
   "source": [
    "def reversed_list(lst1, lst2):\n",
    "    for i in range(len(lst1)):\n",
    "        if lst1[i] != lst2[(len(lst2) - 1) - i]:\n",
    "            return False\n",
    "    return True\n"
   ]
  },
  {
   "attachments": {},
   "cell_type": "markdown",
   "metadata": {},
   "source": [
    "In this version, the `return True` line only gets executed after the `for` loop has finished executing, meaning it has checked all items in the lists. If the function hasn't already returned `False` and ended, it returns `True`, indicating that all corresponding items in the lists are equal."
   ]
  }
 ],
 "metadata": {
  "kernelspec": {
   "display_name": "Python 3",
   "language": "python",
   "name": "python3"
  },
  "language_info": {
   "codemirror_mode": {
    "name": "ipython",
    "version": 3
   },
   "file_extension": ".py",
   "mimetype": "text/x-python",
   "name": "python",
   "nbconvert_exporter": "python",
   "pygments_lexer": "ipython3",
   "version": "3.11.3"
  },
  "orig_nbformat": 4
 },
 "nbformat": 4,
 "nbformat_minor": 2
}
