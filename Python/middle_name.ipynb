{
 "cells": [
  {
   "attachments": {},
   "cell_type": "markdown",
   "metadata": {},
   "source": [
    "# Middle Item"
   ]
  },
  {
   "attachments": {},
   "cell_type": "markdown",
   "metadata": {},
   "source": [
    "1. Define the function to accept one parameter for our list of numbers\n",
    "2. Determine if the length of the list is even or odd\n",
    "3. If the length is even, then return the average of the middle two numbers\n",
    "4. If the length is odd, then return the middle number"
   ]
  },
  {
   "cell_type": "code",
   "execution_count": 2,
   "metadata": {},
   "outputs": [
    {
     "name": "stdout",
     "output_type": "stream",
     "text": [
      "-7.0\n"
     ]
    },
    {
     "ename": "TypeError",
     "evalue": "list indices must be integers or slices, not float",
     "output_type": "error",
     "traceback": [
      "\u001b[0;31m---------------------------------------------------------------------------\u001b[0m",
      "\u001b[0;31mTypeError\u001b[0m                                 Traceback (most recent call last)",
      "Cell \u001b[0;32mIn[2], line 12\u001b[0m\n\u001b[1;32m      8\u001b[0m     \u001b[39m# return my_list[int(num_of_el - 1)/2]\u001b[39;00m\n\u001b[1;32m      9\u001b[0m \n\u001b[1;32m     10\u001b[0m \u001b[39m#Uncomment the line below when your function is done\u001b[39;00m\n\u001b[1;32m     11\u001b[0m \u001b[39mprint\u001b[39m(middle_element([\u001b[39m5\u001b[39m, \u001b[39m2\u001b[39m, \u001b[39m-\u001b[39m\u001b[39m10\u001b[39m, \u001b[39m-\u001b[39m\u001b[39m4\u001b[39m, \u001b[39m4\u001b[39m, \u001b[39m5\u001b[39m]))\n\u001b[0;32m---> 12\u001b[0m \u001b[39mprint\u001b[39m(middle_element([\u001b[39m5\u001b[39;49m, \u001b[39m2\u001b[39;49m, \u001b[39m-\u001b[39;49m\u001b[39m10\u001b[39;49m, \u001b[39m-\u001b[39;49m\u001b[39m4\u001b[39;49m, \u001b[39m4\u001b[39;49m]))\n",
      "Cell \u001b[0;32mIn[2], line 7\u001b[0m, in \u001b[0;36mmiddle_element\u001b[0;34m(my_list)\u001b[0m\n\u001b[1;32m      5\u001b[0m   \u001b[39mreturn\u001b[39;00m (my_list[\u001b[39mint\u001b[39m(num_of_el\u001b[39m/\u001b[39m\u001b[39m2\u001b[39m)\u001b[39m-\u001b[39m\u001b[39m1\u001b[39m] \u001b[39m+\u001b[39m my_list[\u001b[39mint\u001b[39m(num_of_el\u001b[39m/\u001b[39m\u001b[39m2\u001b[39m)]) \u001b[39m/\u001b[39m \u001b[39m2\u001b[39m\n\u001b[1;32m      6\u001b[0m \u001b[39melse\u001b[39;00m:\n\u001b[0;32m----> 7\u001b[0m   \u001b[39mreturn\u001b[39;00m my_list[\u001b[39mint\u001b[39;49m(num_of_el \u001b[39m-\u001b[39;49m \u001b[39m1\u001b[39;49m) \u001b[39m/\u001b[39;49m \u001b[39m2\u001b[39;49m]\n",
      "\u001b[0;31mTypeError\u001b[0m: list indices must be integers or slices, not float"
     ]
    }
   ],
   "source": [
    "def middle_element(my_list):\n",
    "  num_of_el = len(my_list)\n",
    "  if num_of_el % 2 == 0:\n",
    "    return (my_list[int(num_of_el/2)-1] + my_list[int(num_of_el/2)]) / 2\n",
    "  else:\n",
    "    return my_list[int(num_of_el - 1) / 2]\n",
    "    # return my_list[int(num_of_el - 1)/2]\n",
    "\n",
    "print(middle_element([5, 2, -10, -4, 4, 5]))\n",
    "print(middle_element([5, 2, -10, -4, 4]))"
   ]
  },
  {
   "cell_type": "code",
   "execution_count": 9,
   "metadata": {},
   "outputs": [
    {
     "name": "stdout",
     "output_type": "stream",
     "text": [
      "-7.0\n",
      "-10\n"
     ]
    }
   ],
   "source": [
    "def middle_element(my_list):\n",
    "  if len(my_list) % 2 == 0:\n",
    "    sum = my_list[int(len(my_list)/2)] + my_list[int(len(my_list)/2) - 1]\n",
    "    return sum / 2\n",
    "  else:\n",
    "    return my_list[int(len(my_list)/2)]\n",
    "  \n",
    "print(middle_element([5, 2, -10, -4, 4, 5]))\n",
    "print(middle_element([5, 2, -10, -4, 4]))"
   ]
  },
  {
   "attachments": {},
   "cell_type": "markdown",
   "metadata": {},
   "source": [
    "## Commentary"
   ]
  },
  {
   "attachments": {},
   "cell_type": "markdown",
   "metadata": {},
   "source": [
    "### **`type(int/int) == float`**"
   ]
  },
  {
   "attachments": {},
   "cell_type": "markdown",
   "metadata": {},
   "source": [
    "In Python, the single slash / operator performs floating point division. It means that the division of two integers can result in a float. For example, 4 / 2 equals 2.0, not 2."
   ]
  },
  {
   "cell_type": "code",
   "execution_count": 14,
   "metadata": {},
   "outputs": [
    {
     "name": "stdout",
     "output_type": "stream",
     "text": [
      "2.0\n"
     ]
    }
   ],
   "source": [
    "print(4 / 2)"
   ]
  },
  {
   "attachments": {},
   "cell_type": "markdown",
   "metadata": {},
   "source": [
    "If you want the result to be an integer, you should use the double slash //, which is the integer (floor) division operator in Python. This operator performs division and then rounds the result down to the nearest integer. Here's how you can use it:"
   ]
  },
  {
   "cell_type": "code",
   "execution_count": 13,
   "metadata": {},
   "outputs": [
    {
     "name": "stdout",
     "output_type": "stream",
     "text": [
      "2\n"
     ]
    }
   ],
   "source": [
    "print(4 // 2)"
   ]
  },
  {
   "attachments": {},
   "cell_type": "markdown",
   "metadata": {},
   "source": [
    "The reason for this is **to provide more mathematical accuracy.** In most cases, division of two integers doesn't yield an integer, and having `/` always return a float makes the behavior more consistent.\n",
    "\n",
    "**This change was made in Python 3**. In Python 2, the `/` operator performed integer division when used with integers. If you're seeing `/` perform integer division, you might be using Python 2. Python 2 is no longer maintained as of January 1, 2020, and it's recommended to use Python 3 for all purposes."
   ]
  }
 ],
 "metadata": {
  "kernelspec": {
   "display_name": "Python 3",
   "language": "python",
   "name": "python3"
  },
  "language_info": {
   "codemirror_mode": {
    "name": "ipython",
    "version": 3
   },
   "file_extension": ".py",
   "mimetype": "text/x-python",
   "name": "python",
   "nbconvert_exporter": "python",
   "pygments_lexer": "ipython3",
   "version": "3.11.3"
  },
  "orig_nbformat": 4
 },
 "nbformat": 4,
 "nbformat_minor": 2
}
