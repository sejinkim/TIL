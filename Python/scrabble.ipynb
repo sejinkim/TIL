{
 "cells": [
  {
   "attachments": {},
   "cell_type": "markdown",
   "metadata": {},
   "source": [
    "# Scrabble\n",
    "\n",
    "In this project, you will process some data from a group of friends playing scrabble. You will use dictionaries to organize players, words, and points.\n",
    "\n",
    "There are many ways you can extend this project on your own if you finish and want to get more practice!"
   ]
  },
  {
   "cell_type": "code",
   "execution_count": 1,
   "metadata": {},
   "outputs": [],
   "source": [
    "letters = [\"A\", \"B\", \"C\", \"D\", \"E\", \"F\", \"G\", \"H\", \"I\", \"J\", \"K\", \"L\", \"M\", \"N\", \"O\", \"P\", \"Q\", \"R\", \"S\", \"T\", \"U\", \"V\", \"W\", \"X\", \"Y\", \"Z\"]\n",
    "points = [1, 3, 3, 2, 1, 4, 2, 4, 1, 8, 5, 1, 3, 4, 1, 3, 10, 1, 1, 1, 1, 4, 4, 8, 4, 10]"
   ]
  },
  {
   "cell_type": "code",
   "execution_count": 2,
   "metadata": {},
   "outputs": [],
   "source": [
    "letter_to_points = {key:value for key, value in zip(letters, points)}\n",
    "letter_to_points[\" \"] = 0"
   ]
  },
  {
   "cell_type": "code",
   "execution_count": 3,
   "metadata": {},
   "outputs": [],
   "source": [
    "def score_word(word):\n",
    "    word_in_capital = word.upper()\n",
    "    point_total = 0\n",
    "    for i in word:\n",
    "        point_total += letter_to_points.get(i, 0)\n",
    "    \n",
    "    return point_total\n"
   ]
  },
  {
   "cell_type": "code",
   "execution_count": 4,
   "metadata": {},
   "outputs": [
    {
     "name": "stdout",
     "output_type": "stream",
     "text": [
      "15\n"
     ]
    }
   ],
   "source": [
    "brownie_points = score_word(\"BROWNIE\")\n",
    "print(brownie_points)"
   ]
  },
  {
   "cell_type": "code",
   "execution_count": 5,
   "metadata": {},
   "outputs": [
    {
     "name": "stdout",
     "output_type": "stream",
     "text": [
      "{'player1': ['BLUE', 'TENNIS', 'EXIT'], 'wordNerd': ['EARTH', 'EYES', 'MACHINE'], 'Lexi Con': ['ERASER', 'BELLY', 'HUSKY'], 'Prof Reader': ['ZAP', 'COMA', 'PERIOD']}\n"
     ]
    }
   ],
   "source": [
    "players = [\"player1\", \"wordNerd\", \"Lexi Con\", \"Prof Reader\"]\n",
    "groups_of_words = [\n",
    "    [\"BLUE\", \"TENNIS\", \"EXIT\"], \n",
    "    [\"EARTH\", \"EYES\", \"MACHINE\"], \n",
    "    [\"ERASER\", \"BELLY\", \"HUSKY\"], \n",
    "    [\"ZAP\", \"COMA\", \"PERIOD\"]\n",
    "    ]\n",
    "player_to_words = dict(zip(players, groups_of_words))\n",
    "print(player_to_words)"
   ]
  },
  {
   "cell_type": "code",
   "execution_count": 6,
   "metadata": {},
   "outputs": [],
   "source": [
    "player_to_points = {}"
   ]
  },
  {
   "cell_type": "code",
   "execution_count": 7,
   "metadata": {},
   "outputs": [
    {
     "name": "stdout",
     "output_type": "stream",
     "text": [
      "{'player1': 29, 'wordNerd': 32, 'Lexi Con': 31, 'Prof Reader': 31}\n"
     ]
    }
   ],
   "source": [
    "for player, words in player_to_words.items():\n",
    "    player_points = 0\n",
    "    for word in words:\n",
    "        player_points += score_word(word)\n",
    "    player_to_points[player] = player_points\n",
    "\n",
    "print(player_to_points)"
   ]
  },
  {
   "cell_type": "code",
   "execution_count": 8,
   "metadata": {},
   "outputs": [],
   "source": [
    "def play_word(player, word):\n",
    "    player_to_words[player].append(word)"
   ]
  },
  {
   "cell_type": "code",
   "execution_count": 12,
   "metadata": {},
   "outputs": [
    {
     "name": "stdout",
     "output_type": "stream",
     "text": [
      "None\n"
     ]
    }
   ],
   "source": [
    "lst_test = player_to_words[\"player1\"] \n",
    "print(lst_test.append(\"TEST\"))"
   ]
  },
  {
   "cell_type": "code",
   "execution_count": 10,
   "metadata": {},
   "outputs": [
    {
     "name": "stdout",
     "output_type": "stream",
     "text": [
      "{'player1': ['BLUE', 'TENNIS', 'EXIT', 'FAULT'], 'wordNerd': ['EARTH', 'EYES', 'MACHINE'], 'Lexi Con': ['ERASER', 'BELLY', 'HUSKY'], 'Prof Reader': ['ZAP', 'COMA', 'PERIOD']}\n"
     ]
    }
   ],
   "source": [
    "play_word(\"player1\", \"FAULT\")\n",
    "\n",
    "print(player_to_words)"
   ]
  },
  {
   "cell_type": "code",
   "execution_count": null,
   "metadata": {},
   "outputs": [],
   "source": []
  }
 ],
 "metadata": {
  "kernelspec": {
   "display_name": "Python 3",
   "language": "python",
   "name": "python3"
  },
  "language_info": {
   "codemirror_mode": {
    "name": "ipython",
    "version": 3
   },
   "file_extension": ".py",
   "mimetype": "text/x-python",
   "name": "python",
   "nbconvert_exporter": "python",
   "pygments_lexer": "ipython3",
   "version": "3.11.3"
  },
  "orig_nbformat": 4
 },
 "nbformat": 4,
 "nbformat_minor": 2
}
