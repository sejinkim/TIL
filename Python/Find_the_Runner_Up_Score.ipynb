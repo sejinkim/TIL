{
 "cells": [
  {
   "attachments": {},
   "cell_type": "markdown",
   "metadata": {},
   "source": [
    "# Find the Runner-Up Score!\n",
    "\n",
    "[Problem Statement](https://www.hackerrank.com/challenges/find-second-maximum-number-in-a-list/problem)"
   ]
  },
  {
   "cell_type": "code",
   "execution_count": null,
   "metadata": {},
   "outputs": [],
   "source": [
    "if __name__ == '__main__':\n",
    "    n = int(input())\n",
    "    arr = map(int, input().split())\n",
    "    \n",
    "    scores = set(list(arr))\n",
    "    scores_descending = sorted(scores, reverse=True)\n",
    "    print(scores_descending[1])"
   ]
  },
  {
   "attachments": {},
   "cell_type": "markdown",
   "metadata": {},
   "source": [
    "### `set()`\n",
    "\n",
    "The `set()` function in Python is a built-in function that creates a new set object, which is a built-in data type in Python.\n",
    "\n",
    "A set in Python is an unordered collection of unique elements. It is mutable, meaning you can add and remove items from it. Because **each element in a set is unique**, it can be **useful when you want to avoid duplicates**. Sets also support mathematical operations like union, intersection, difference, and symmetric difference."
   ]
  }
 ],
 "metadata": {
  "kernelspec": {
   "display_name": "Python 3",
   "language": "python",
   "name": "python3"
  },
  "language_info": {
   "codemirror_mode": {
    "name": "ipython",
    "version": 3
   },
   "file_extension": ".py",
   "mimetype": "text/x-python",
   "name": "python",
   "nbconvert_exporter": "python",
   "pygments_lexer": "ipython3",
   "version": "3.11.3"
  },
  "orig_nbformat": 4
 },
 "nbformat": 4,
 "nbformat_minor": 2
}
