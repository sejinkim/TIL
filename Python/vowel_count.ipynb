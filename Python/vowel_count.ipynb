{
 "cells": [
  {
   "attachments": {},
   "cell_type": "markdown",
   "metadata": {},
   "source": [
    "# Vowel Count"
   ]
  },
  {
   "attachments": {},
   "cell_type": "markdown",
   "metadata": {},
   "source": [
    "You have a predefined string vowels that contains all letters designating vowel sounds. Write a program that counts the number of vowels in the variable string and prints this number."
   ]
  },
  {
   "attachments": {},
   "cell_type": "markdown",
   "metadata": {},
   "source": [
    "## My Solution"
   ]
  },
  {
   "cell_type": "code",
   "execution_count": 1,
   "metadata": {},
   "outputs": [
    {
     "name": "stdout",
     "output_type": "stream",
     "text": [
      "23\n"
     ]
    }
   ],
   "source": [
    "string = \"red yellow fox bite orange goose beeeeeeeeeeep\"\n",
    "vowels = 'aeiou'\n",
    "\n",
    "no_of_vowel = sum([string.count(vowel) for vowel in vowels])\n",
    "\n",
    "print(no_of_vowel)"
   ]
  },
  {
   "attachments": {},
   "cell_type": "markdown",
   "metadata": {},
   "source": [
    "## From Another Solution"
   ]
  },
  {
   "cell_type": "code",
   "execution_count": 2,
   "metadata": {},
   "outputs": [
    {
     "name": "stdout",
     "output_type": "stream",
     "text": [
      "23\n"
     ]
    }
   ],
   "source": [
    "print(sum(vowel in vowels for vowel in string))"
   ]
  },
  {
   "attachments": {},
   "cell_type": "markdown",
   "metadata": {},
   "source": [
    "This is called a **generator expression**. It creates a new iterable object that generates a boolean value for each character in the **`string`** variable, indicating whether or not that character is a vowel. \n",
    "\n",
    "The **`for vowel in string`** clause loops over each character in the **`string`** variable, and the **`vowel in vowels`** expression checks whether that character is a vowel. \n",
    "\n",
    "The resulting iterable object generates a sequence of True and False values, one for each character in the string."
   ]
  },
  {
   "attachments": {},
   "cell_type": "markdown",
   "metadata": {},
   "source": [
    "### **`vowel in vowels`**"
   ]
  },
  {
   "attachments": {},
   "cell_type": "markdown",
   "metadata": {},
   "source": [
    "앞의 변수가 뒤의 변수에 포함되지는지를 확인하여, True or False로 값을 되돌리는 코드"
   ]
  },
  {
   "cell_type": "code",
   "execution_count": 3,
   "metadata": {},
   "outputs": [
    {
     "data": {
      "text/plain": [
       "True"
      ]
     },
     "execution_count": 3,
     "metadata": {},
     "output_type": "execute_result"
    }
   ],
   "source": [
    "\"y\" in \"python\""
   ]
  },
  {
   "attachments": {},
   "cell_type": "markdown",
   "metadata": {},
   "source": [
    "### **`sum()`**"
   ]
  },
  {
   "attachments": {},
   "cell_type": "markdown",
   "metadata": {},
   "source": [
    "iterable 객체를 인수로 받는 함수."
   ]
  },
  {
   "cell_type": "code",
   "execution_count": 4,
   "metadata": {},
   "outputs": [
    {
     "name": "stdout",
     "output_type": "stream",
     "text": [
      "15\n",
      "30\n",
      "34\n",
      "81\n"
     ]
    }
   ],
   "source": [
    "# List\n",
    "print(sum([3, 6, 6]))\n",
    "print(sum(range(0, 30, 10)))\n",
    "# Tuple\n",
    "print(sum((23, 11))) \n",
    "# Dictonary\n",
    "dic = {\"Bob\": 22, \"Kate\": 19, \"John\": 40}\n",
    "print(sum(dic.values()))"
   ]
  },
  {
   "attachments": {},
   "cell_type": "markdown",
   "metadata": {},
   "source": [
    "위와 같은 숫자들은 그 합을 표시"
   ]
  },
  {
   "cell_type": "code",
   "execution_count": 5,
   "metadata": {},
   "outputs": [
    {
     "data": {
      "text/plain": [
       "[0, 100, 400]"
      ]
     },
     "execution_count": 5,
     "metadata": {},
     "output_type": "execute_result"
    }
   ],
   "source": [
    "[x**2 for x in range(0, 30, 10)]"
   ]
  },
  {
   "cell_type": "code",
   "execution_count": 6,
   "metadata": {},
   "outputs": [
    {
     "name": "stdout",
     "output_type": "stream",
     "text": [
      "<class 'generator'>\n"
     ]
    }
   ],
   "source": [
    "print(type(x**2 for x in range(0, 30, 10)))"
   ]
  },
  {
   "attachments": {},
   "cell_type": "markdown",
   "metadata": {},
   "source": [
    "Generator는 iterator를 생성해주는 함수이다. 따라서 결과값이 iterable한 객체>"
   ]
  },
  {
   "cell_type": "code",
   "execution_count": 7,
   "metadata": {},
   "outputs": [
    {
     "name": "stdout",
     "output_type": "stream",
     "text": [
      "500\n"
     ]
    }
   ],
   "source": [
    "print(sum(x**2 for x in range(0, 30, 10)))"
   ]
  },
  {
   "cell_type": "code",
   "execution_count": 8,
   "metadata": {},
   "outputs": [
    {
     "name": "stdout",
     "output_type": "stream",
     "text": [
      "2\n"
     ]
    }
   ],
   "source": [
    "# Boolean in iterable\n",
    "print(sum([True, False, True]))"
   ]
  },
  {
   "attachments": {},
   "cell_type": "markdown",
   "metadata": {},
   "source": [
    "Boolean은 True인 값을 counting 한다."
   ]
  },
  {
   "cell_type": "code",
   "execution_count": 9,
   "metadata": {},
   "outputs": [
    {
     "data": {
      "text/plain": [
       "[False,\n",
       " True,\n",
       " False,\n",
       " False,\n",
       " False,\n",
       " True,\n",
       " False,\n",
       " False,\n",
       " True,\n",
       " False,\n",
       " False,\n",
       " False,\n",
       " True,\n",
       " False,\n",
       " False,\n",
       " False,\n",
       " True,\n",
       " False,\n",
       " True,\n",
       " False,\n",
       " True,\n",
       " False,\n",
       " True,\n",
       " False,\n",
       " False,\n",
       " True,\n",
       " False,\n",
       " False,\n",
       " True,\n",
       " True,\n",
       " False,\n",
       " True,\n",
       " False,\n",
       " False,\n",
       " True,\n",
       " True,\n",
       " True,\n",
       " True,\n",
       " True,\n",
       " True,\n",
       " True,\n",
       " True,\n",
       " True,\n",
       " True,\n",
       " True,\n",
       " False]"
      ]
     },
     "execution_count": 9,
     "metadata": {},
     "output_type": "execute_result"
    }
   ],
   "source": [
    "[vowel in vowels for vowel in string]"
   ]
  },
  {
   "cell_type": "code",
   "execution_count": 10,
   "metadata": {},
   "outputs": [
    {
     "data": {
      "text/plain": [
       "23"
      ]
     },
     "execution_count": 10,
     "metadata": {},
     "output_type": "execute_result"
    }
   ],
   "source": [
    "sum(string.count(vowel) for vowel in vowels)"
   ]
  },
  {
   "attachments": {},
   "cell_type": "markdown",
   "metadata": {},
   "source": [
    "Let's take a look the solution again."
   ]
  },
  {
   "cell_type": "code",
   "execution_count": 11,
   "metadata": {},
   "outputs": [
    {
     "name": "stdout",
     "output_type": "stream",
     "text": [
      "23\n"
     ]
    }
   ],
   "source": [
    "print(sum(vowel in vowels for vowel in string))"
   ]
  },
  {
   "attachments": {},
   "cell_type": "markdown",
   "metadata": {},
   "source": [
    "줄 글로 다시 풀어서 설명해보자면, \n",
    "1) `for vowel in string`: string에 있는 모든 글자 하나하나를 vowel이라는 변수로 치환한다.\n",
    "2) `vowel in vowels`: vowel 변수에 배정된 글자가 vowels에 포함된 글자인지 확인하여 boolean 값으로 산출한다.\n",
    "3) string에 있는 모든 글자 하나가 vowels에 포함된 글자인지 확인이 끝날 때까지 위의 과정이 반복된다.\n",
    "4) `vowel in vowels for vowel in string`: 이 모든 과정은 연속된 boolean 값으로 이루어진 iterable 한 객체를 만들어 낸다.\n",
    "5) `sum(iterable)`: 안에 값들이 boolean 값으로 이루어진 iterable한 객체이므로, 리스트(`[]`), 튜플(`()`)이 필요없이 바로 `sum()` 함수 적용. 이 때 `sum()` 함수는 True인 값을 카운팅하는 역할을 한다. 즉, string 변수 문자열의 문자가 vowels에 포함된 문자라면 +1씩 카운팅하는 방법으로 알고리즘이 진행.\n"
   ]
  }
 ],
 "metadata": {
  "kernelspec": {
   "display_name": "Python 3",
   "language": "python",
   "name": "python3"
  },
  "language_info": {
   "codemirror_mode": {
    "name": "ipython",
    "version": 3
   },
   "file_extension": ".py",
   "mimetype": "text/x-python",
   "name": "python",
   "nbconvert_exporter": "python",
   "pygments_lexer": "ipython3",
   "version": "3.11.3"
  },
  "orig_nbformat": 4
 },
 "nbformat": 4,
 "nbformat_minor": 2
}
