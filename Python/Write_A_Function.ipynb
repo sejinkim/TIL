{
 "cells": [
  {
   "attachments": {},
   "cell_type": "markdown",
   "metadata": {},
   "source": [
    "# Write a function\n",
    "\n",
    "[Problem Statement](https://www.hackerrank.com/challenges/write-a-function/problem)"
   ]
  },
  {
   "cell_type": "code",
   "execution_count": null,
   "metadata": {},
   "outputs": [],
   "source": [
    "def is_leap(year):\n",
    "    leap = False\n",
    "    \n",
    "    if year % 4 == 0 :\n",
    "        if year % 400 == 0 :\n",
    "            return not leap\n",
    "        elif year % 100 == 0:\n",
    "            return leap\n",
    "        else:\n",
    "            return not leap\n",
    "    else:\n",
    "        return leap\n",
    "            \n",
    "year = int(input())\n"
   ]
  }
 ],
 "metadata": {
  "kernelspec": {
   "display_name": "Python 3",
   "language": "python",
   "name": "python3"
  },
  "language_info": {
   "codemirror_mode": {
    "name": "ipython",
    "version": 3
   },
   "file_extension": ".py",
   "mimetype": "text/x-python",
   "name": "python",
   "nbconvert_exporter": "python",
   "pygments_lexer": "ipython3",
   "version": "3.11.3"
  },
  "orig_nbformat": 4
 },
 "nbformat": 4,
 "nbformat_minor": 2
}
