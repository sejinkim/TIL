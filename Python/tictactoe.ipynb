{
 "cells": [
  {
   "attachments": {},
   "cell_type": "markdown",
   "metadata": {},
   "source": [
    "# The user is the gamemaster"
   ]
  },
  {
   "attachments": {},
   "cell_type": "markdown",
   "metadata": {},
   "source": [
    "The program should display the game grid and allow the user to input a string representing the game state. The grid will be 3x3 and will have boundaries."
   ]
  },
  {
   "attachments": {},
   "cell_type": "markdown",
   "metadata": {},
   "source": [
    "### Objectives"
   ]
  },
  {
   "attachments": {},
   "cell_type": "markdown",
   "metadata": {},
   "source": [
    "The objectives are to read a string of 9 symbols from the input and display them in a 3x3 grid using X, O, and _ symbols. The program should also add boundaries to the grid by adding a line of dashes above and below, adding a pipe symbol to the beginning and end of each line of the grid, and spacing out the characters in the grid."
   ]
  },
  {
   "attachments": {},
   "cell_type": "markdown",
   "metadata": {},
   "source": [
    "### Solution"
   ]
  },
  {
   "cell_type": "code",
   "execution_count": 1,
   "metadata": {},
   "outputs": [],
   "source": [
    "tictactoe = input('Please enter 9 symbols. The symbols can only be \"X\", \"O\", and \"_\": ')"
   ]
  },
  {
   "cell_type": "code",
   "execution_count": 2,
   "metadata": {},
   "outputs": [
    {
     "name": "stdout",
     "output_type": "stream",
     "text": [
      "---------\n",
      "| O _ O |\n",
      "| X X O |\n",
      "| _ X X |\n",
      "---------\n"
     ]
    }
   ],
   "source": [
    "print(f\"---------\\n\"\n",
    "      f\"| {tictactoe[0]} {tictactoe[1]} {tictactoe[2]} |\\n\"\n",
    "      f\"| {tictactoe[3]} {tictactoe[4]} {tictactoe[5]} |\\n\"\n",
    "      f\"| {tictactoe[6]} {tictactoe[7]} {tictactoe[8]} |\\n\"\n",
    "      f\"---------\")"
   ]
  }
 ],
 "metadata": {
  "kernelspec": {
   "display_name": "Python 3",
   "language": "python",
   "name": "python3"
  },
  "language_info": {
   "codemirror_mode": {
    "name": "ipython",
    "version": 3
   },
   "file_extension": ".py",
   "mimetype": "text/x-python",
   "name": "python",
   "nbconvert_exporter": "python",
   "pygments_lexer": "ipython3",
   "version": "3.11.3"
  },
  "orig_nbformat": 4
 },
 "nbformat": 4,
 "nbformat_minor": 2
}
