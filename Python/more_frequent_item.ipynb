{
 "cells": [
  {
   "attachments": {},
   "cell_type": "markdown",
   "metadata": {},
   "source": [
    "# More Frequent Item"
   ]
  },
  {
   "cell_type": "code",
   "execution_count": 1,
   "metadata": {},
   "outputs": [
    {
     "name": "stdout",
     "output_type": "stream",
     "text": [
      "3\n"
     ]
    }
   ],
   "source": [
    "def more_frequent_item(my_list, item1, item2):\n",
    "  if my_list.count(item1) > my_list.count(item2):\n",
    "    return item1\n",
    "  elif my_list.count(item1) < my_list.count(item2):\n",
    "    return item2\n",
    "  else:\n",
    "    return item1\n",
    "\n",
    "print(more_frequent_item([2, 3, 3, 2, 3, 2, 3, 2, 3], 2, 3))"
   ]
  },
  {
   "attachments": {},
   "cell_type": "markdown",
   "metadata": {},
   "source": [
    "## Better Solution"
   ]
  },
  {
   "cell_type": "code",
   "execution_count": 2,
   "metadata": {},
   "outputs": [
    {
     "name": "stdout",
     "output_type": "stream",
     "text": [
      "3\n"
     ]
    }
   ],
   "source": [
    "def more_frequent_item(my_list, item1, item2):\n",
    "  count_item1 = my_list.count(item1)\n",
    "  count_item2 = my_list.count(item2)\n",
    "  if count_item1 >= count_item2:\n",
    "    return item1\n",
    "  else:\n",
    "    return item2\n",
    "  \n",
    "print(more_frequent_item([2, 3, 3, 2, 3, 2, 3, 2, 3], 2, 3))"
   ]
  },
  {
   "attachments": {},
   "cell_type": "markdown",
   "metadata": {},
   "source": [
    "It only counts the occurrences of item1 and item2 once, which makes it slightly more efficient. \n",
    "\n",
    "**This would be particularly noticeable with a large list where item1 and item2 both occur many times, as the .count() method has to iterate through the entire list each time it's called.**"
   ]
  }
 ],
 "metadata": {
  "kernelspec": {
   "display_name": "Python 3",
   "language": "python",
   "name": "python3"
  },
  "language_info": {
   "codemirror_mode": {
    "name": "ipython",
    "version": 3
   },
   "file_extension": ".py",
   "mimetype": "text/x-python",
   "name": "python",
   "nbconvert_exporter": "python",
   "pygments_lexer": "ipython3",
   "version": "3.11.3"
  },
  "orig_nbformat": 4
 },
 "nbformat": 4,
 "nbformat_minor": 2
}
