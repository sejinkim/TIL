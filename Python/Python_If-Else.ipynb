{
 "cells": [
  {
   "attachments": {},
   "cell_type": "markdown",
   "metadata": {},
   "source": [
    "# Python If-Else\n",
    "[Problem Statement](https://www.hackerrank.com/challenges/py-if-else/problem)"
   ]
  },
  {
   "cell_type": "code",
   "execution_count": 1,
   "metadata": {},
   "outputs": [
    {
     "name": "stdout",
     "output_type": "stream",
     "text": [
      "Weird\n"
     ]
    }
   ],
   "source": [
    "if __name__ == '__main__':\n",
    "    n = int(input('Please enter an integer from 1 to 10: ').strip())\n",
    "    while not 1 <= n <= 100: # Added the constrains condition\n",
    "        n = int(input(\"Not an integer from 1 to 10. '\\\n",
    "                  Please enter the correct number again.:\").strip())\n",
    "    else:\n",
    "        if n % 2 != 0:\n",
    "            print(\"Weird\")\n",
    "        elif 2 <= n <= 5:\n",
    "            print(\"Not Weird\")\n",
    "        elif 6 <= n <= 20:\n",
    "            print(\"Weird\")\n",
    "        else:\n",
    "            print(\"Not Weird\")"
   ]
  }
 ],
 "metadata": {
  "kernelspec": {
   "display_name": "Python 3",
   "language": "python",
   "name": "python3"
  },
  "language_info": {
   "codemirror_mode": {
    "name": "ipython",
    "version": 3
   },
   "file_extension": ".py",
   "mimetype": "text/x-python",
   "name": "python",
   "nbconvert_exporter": "python",
   "pygments_lexer": "ipython3",
   "version": "3.11.3"
  },
  "orig_nbformat": 4
 },
 "nbformat": 4,
 "nbformat_minor": 2
}
